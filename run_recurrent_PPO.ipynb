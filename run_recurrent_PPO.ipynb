{
 "cells": [
  {
   "cell_type": "code",
   "execution_count": null,
   "metadata": {},
   "outputs": [],
   "source": [
    "# module imports\n",
    "import numpy as np\n",
    "\n",
    "from sb3_contrib import RecurrentPPO\n",
    "from stable_baselines3.common.evaluation import evaluate_policy\n",
    "from src.taskgym import HaydenRiskTrial"
   ]
  },
  {
   "cell_type": "code",
   "execution_count": null,
   "metadata": {},
   "outputs": [],
   "source": [
    "# load environment\n",
    "env = HaydenRiskTrial()"
   ]
  },
  {
   "cell_type": "code",
   "execution_count": null,
   "metadata": {},
   "outputs": [],
   "source": [
    "# reset\n",
    "obs, info = env.reset()"
   ]
  },
  {
   "cell_type": "code",
   "execution_count": null,
   "metadata": {},
   "outputs": [],
   "source": [
    "# instantiate model\n",
    "model = RecurrentPPO(\"MlpLstmPolicy\", env, verbose=1)"
   ]
  },
  {
   "cell_type": "code",
   "execution_count": null,
   "metadata": {},
   "outputs": [],
   "source": [
    "# run 5000 training runs\n",
    "model.learn(5000)"
   ]
  },
  {
   "cell_type": "code",
   "execution_count": null,
   "metadata": {},
   "outputs": [],
   "source": [
    "# adjustable evaluation run\n",
    "obs, info = env.reset()\n",
    "lstm_states = None\n",
    "episode_rewards = []\n",
    "episode_reward = 0\n",
    "episode_counts = 100  # Number of episodes for evaluation\n",
    "\n",
    "for episode in range(episode_counts):\n",
    "    obs, info = env.reset()\n",
    "    done = False\n",
    "    lstm_states = None\n",
    "    episode_reward = 0\n",
    "    while not done:\n",
    "        action, lstm_states = model.predict(\n",
    "            obs,\n",
    "            state=lstm_states,\n",
    "            deterministic=True,\n",
    "            episode_start=np.array([done])\n",
    "        )\n",
    "        obs, reward, done, truncated, info = env.step(action)\n",
    "        episode_reward += reward\n",
    "    print(f\"Episode {episode}: Reward = {episode_reward}\")"
   ]
  }
 ],
 "metadata": {
  "language_info": {
   "name": "python"
  }
 },
 "nbformat": 4,
 "nbformat_minor": 2
}
